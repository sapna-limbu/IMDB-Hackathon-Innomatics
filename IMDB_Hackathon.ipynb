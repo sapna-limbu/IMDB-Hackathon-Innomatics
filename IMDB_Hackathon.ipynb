{
 "cells": [
  {
   "cell_type": "code",
   "execution_count": 1,
   "id": "df2c54f2",
   "metadata": {},
   "outputs": [],
   "source": [
    "import warnings\n",
    "warnings.filterwarnings('ignore')\n",
    "\n",
    "import numpy as np\n",
    "import pandas as pd\n",
    "import matplotlib.pyplot as plt\n",
    "import seaborn as sns\n",
    "\n",
    "import requests\n",
    "from bs4 import BeautifulSoup\n",
    "\n",
    "import re\n",
    "import time"
   ]
  },
  {
   "cell_type": "code",
   "execution_count": 2,
   "id": "e7a2eec6",
   "metadata": {},
   "outputs": [],
   "source": [
    "link = pd.read_csv(\"links.csv\")\n",
    "movie = pd.read_csv(\"movies.csv\")\n",
    "rating = pd.read_csv(\"ratings.csv\")\n",
    "tag = pd.read_csv(\"tags.csv\")"
   ]
  },
  {
   "cell_type": "code",
   "execution_count": 46,
   "id": "97adccb3",
   "metadata": {},
   "outputs": [
    {
     "data": {
      "text/plain": [
       "(9742, 3)"
      ]
     },
     "execution_count": 46,
     "metadata": {},
     "output_type": "execute_result"
    }
   ],
   "source": [
    "#What is the shape of \"movies.csv\"?\n",
    "movie.shape"
   ]
  },
  {
   "cell_type": "code",
   "execution_count": 47,
   "id": "ed7a8f61",
   "metadata": {},
   "outputs": [
    {
     "data": {
      "text/plain": [
       "(100836, 4)"
      ]
     },
     "execution_count": 47,
     "metadata": {},
     "output_type": "execute_result"
    }
   ],
   "source": [
    "#What is the shape of \"ratings.csv\"?\n",
    "rating.shape"
   ]
  },
  {
   "cell_type": "code",
   "execution_count": 48,
   "id": "4fe15248",
   "metadata": {},
   "outputs": [
    {
     "data": {
      "text/plain": [
       "610"
      ]
     },
     "execution_count": 48,
     "metadata": {},
     "output_type": "execute_result"
    }
   ],
   "source": [
    "#How many unique \"userId\" are available in \"ratings.csv\"?\n",
    "rating['userId'].nunique()"
   ]
  },
  {
   "cell_type": "code",
   "execution_count": 6,
   "id": "fa0cba98",
   "metadata": {},
   "outputs": [],
   "source": [
    "# Merging link and movie on 'movieId'\n",
    "merged_table = pd.merge(link, movie, on='movieId')\n",
    "\n",
    "# Merging the result with rating on 'movieId'\n",
    "merged_table = pd.merge(merged_table, rating, on='movieId')\n",
    "\n",
    "# Merging the result with tag on 'movieId'\n",
    "merged_table = pd.merge(merged_table, tag, on='movieId')\n"
   ]
  },
  {
   "cell_type": "code",
   "execution_count": 7,
   "id": "ffb91d00",
   "metadata": {},
   "outputs": [
    {
     "data": {
      "text/html": [
       "<div>\n",
       "<style scoped>\n",
       "    .dataframe tbody tr th:only-of-type {\n",
       "        vertical-align: middle;\n",
       "    }\n",
       "\n",
       "    .dataframe tbody tr th {\n",
       "        vertical-align: top;\n",
       "    }\n",
       "\n",
       "    .dataframe thead th {\n",
       "        text-align: right;\n",
       "    }\n",
       "</style>\n",
       "<table border=\"1\" class=\"dataframe\">\n",
       "  <thead>\n",
       "    <tr style=\"text-align: right;\">\n",
       "      <th></th>\n",
       "      <th>movieId</th>\n",
       "      <th>imdbId</th>\n",
       "      <th>tmdbId</th>\n",
       "      <th>title</th>\n",
       "      <th>genres</th>\n",
       "      <th>userId_x</th>\n",
       "      <th>rating</th>\n",
       "      <th>timestamp_x</th>\n",
       "      <th>userId_y</th>\n",
       "      <th>tag</th>\n",
       "      <th>timestamp_y</th>\n",
       "    </tr>\n",
       "  </thead>\n",
       "  <tbody>\n",
       "    <tr>\n",
       "      <th>0</th>\n",
       "      <td>1</td>\n",
       "      <td>114709</td>\n",
       "      <td>862.0</td>\n",
       "      <td>Toy Story (1995)</td>\n",
       "      <td>Adventure|Animation|Children|Comedy|Fantasy</td>\n",
       "      <td>1</td>\n",
       "      <td>4.0</td>\n",
       "      <td>964982703</td>\n",
       "      <td>336</td>\n",
       "      <td>pixar</td>\n",
       "      <td>1139045764</td>\n",
       "    </tr>\n",
       "    <tr>\n",
       "      <th>1</th>\n",
       "      <td>1</td>\n",
       "      <td>114709</td>\n",
       "      <td>862.0</td>\n",
       "      <td>Toy Story (1995)</td>\n",
       "      <td>Adventure|Animation|Children|Comedy|Fantasy</td>\n",
       "      <td>1</td>\n",
       "      <td>4.0</td>\n",
       "      <td>964982703</td>\n",
       "      <td>474</td>\n",
       "      <td>pixar</td>\n",
       "      <td>1137206825</td>\n",
       "    </tr>\n",
       "    <tr>\n",
       "      <th>2</th>\n",
       "      <td>1</td>\n",
       "      <td>114709</td>\n",
       "      <td>862.0</td>\n",
       "      <td>Toy Story (1995)</td>\n",
       "      <td>Adventure|Animation|Children|Comedy|Fantasy</td>\n",
       "      <td>1</td>\n",
       "      <td>4.0</td>\n",
       "      <td>964982703</td>\n",
       "      <td>567</td>\n",
       "      <td>fun</td>\n",
       "      <td>1525286013</td>\n",
       "    </tr>\n",
       "    <tr>\n",
       "      <th>3</th>\n",
       "      <td>1</td>\n",
       "      <td>114709</td>\n",
       "      <td>862.0</td>\n",
       "      <td>Toy Story (1995)</td>\n",
       "      <td>Adventure|Animation|Children|Comedy|Fantasy</td>\n",
       "      <td>5</td>\n",
       "      <td>4.0</td>\n",
       "      <td>847434962</td>\n",
       "      <td>336</td>\n",
       "      <td>pixar</td>\n",
       "      <td>1139045764</td>\n",
       "    </tr>\n",
       "    <tr>\n",
       "      <th>4</th>\n",
       "      <td>1</td>\n",
       "      <td>114709</td>\n",
       "      <td>862.0</td>\n",
       "      <td>Toy Story (1995)</td>\n",
       "      <td>Adventure|Animation|Children|Comedy|Fantasy</td>\n",
       "      <td>5</td>\n",
       "      <td>4.0</td>\n",
       "      <td>847434962</td>\n",
       "      <td>474</td>\n",
       "      <td>pixar</td>\n",
       "      <td>1137206825</td>\n",
       "    </tr>\n",
       "    <tr>\n",
       "      <th>...</th>\n",
       "      <td>...</td>\n",
       "      <td>...</td>\n",
       "      <td>...</td>\n",
       "      <td>...</td>\n",
       "      <td>...</td>\n",
       "      <td>...</td>\n",
       "      <td>...</td>\n",
       "      <td>...</td>\n",
       "      <td>...</td>\n",
       "      <td>...</td>\n",
       "      <td>...</td>\n",
       "    </tr>\n",
       "    <tr>\n",
       "      <th>233208</th>\n",
       "      <td>187595</td>\n",
       "      <td>3778644</td>\n",
       "      <td>348350.0</td>\n",
       "      <td>Solo: A Star Wars Story (2018)</td>\n",
       "      <td>Action|Adventure|Children|Sci-Fi</td>\n",
       "      <td>586</td>\n",
       "      <td>5.0</td>\n",
       "      <td>1529899556</td>\n",
       "      <td>62</td>\n",
       "      <td>star wars</td>\n",
       "      <td>1528934552</td>\n",
       "    </tr>\n",
       "    <tr>\n",
       "      <th>233209</th>\n",
       "      <td>193565</td>\n",
       "      <td>1636780</td>\n",
       "      <td>71172.0</td>\n",
       "      <td>Gintama: The Movie (2010)</td>\n",
       "      <td>Action|Animation|Comedy|Sci-Fi</td>\n",
       "      <td>184</td>\n",
       "      <td>3.5</td>\n",
       "      <td>1537098554</td>\n",
       "      <td>184</td>\n",
       "      <td>anime</td>\n",
       "      <td>1537098582</td>\n",
       "    </tr>\n",
       "    <tr>\n",
       "      <th>233210</th>\n",
       "      <td>193565</td>\n",
       "      <td>1636780</td>\n",
       "      <td>71172.0</td>\n",
       "      <td>Gintama: The Movie (2010)</td>\n",
       "      <td>Action|Animation|Comedy|Sci-Fi</td>\n",
       "      <td>184</td>\n",
       "      <td>3.5</td>\n",
       "      <td>1537098554</td>\n",
       "      <td>184</td>\n",
       "      <td>comedy</td>\n",
       "      <td>1537098587</td>\n",
       "    </tr>\n",
       "    <tr>\n",
       "      <th>233211</th>\n",
       "      <td>193565</td>\n",
       "      <td>1636780</td>\n",
       "      <td>71172.0</td>\n",
       "      <td>Gintama: The Movie (2010)</td>\n",
       "      <td>Action|Animation|Comedy|Sci-Fi</td>\n",
       "      <td>184</td>\n",
       "      <td>3.5</td>\n",
       "      <td>1537098554</td>\n",
       "      <td>184</td>\n",
       "      <td>gintama</td>\n",
       "      <td>1537098603</td>\n",
       "    </tr>\n",
       "    <tr>\n",
       "      <th>233212</th>\n",
       "      <td>193565</td>\n",
       "      <td>1636780</td>\n",
       "      <td>71172.0</td>\n",
       "      <td>Gintama: The Movie (2010)</td>\n",
       "      <td>Action|Animation|Comedy|Sci-Fi</td>\n",
       "      <td>184</td>\n",
       "      <td>3.5</td>\n",
       "      <td>1537098554</td>\n",
       "      <td>184</td>\n",
       "      <td>remaster</td>\n",
       "      <td>1537098592</td>\n",
       "    </tr>\n",
       "  </tbody>\n",
       "</table>\n",
       "<p>233213 rows × 11 columns</p>\n",
       "</div>"
      ],
      "text/plain": [
       "        movieId   imdbId    tmdbId                           title  \\\n",
       "0             1   114709     862.0                Toy Story (1995)   \n",
       "1             1   114709     862.0                Toy Story (1995)   \n",
       "2             1   114709     862.0                Toy Story (1995)   \n",
       "3             1   114709     862.0                Toy Story (1995)   \n",
       "4             1   114709     862.0                Toy Story (1995)   \n",
       "...         ...      ...       ...                             ...   \n",
       "233208   187595  3778644  348350.0  Solo: A Star Wars Story (2018)   \n",
       "233209   193565  1636780   71172.0       Gintama: The Movie (2010)   \n",
       "233210   193565  1636780   71172.0       Gintama: The Movie (2010)   \n",
       "233211   193565  1636780   71172.0       Gintama: The Movie (2010)   \n",
       "233212   193565  1636780   71172.0       Gintama: The Movie (2010)   \n",
       "\n",
       "                                             genres  userId_x  rating  \\\n",
       "0       Adventure|Animation|Children|Comedy|Fantasy         1     4.0   \n",
       "1       Adventure|Animation|Children|Comedy|Fantasy         1     4.0   \n",
       "2       Adventure|Animation|Children|Comedy|Fantasy         1     4.0   \n",
       "3       Adventure|Animation|Children|Comedy|Fantasy         5     4.0   \n",
       "4       Adventure|Animation|Children|Comedy|Fantasy         5     4.0   \n",
       "...                                             ...       ...     ...   \n",
       "233208             Action|Adventure|Children|Sci-Fi       586     5.0   \n",
       "233209               Action|Animation|Comedy|Sci-Fi       184     3.5   \n",
       "233210               Action|Animation|Comedy|Sci-Fi       184     3.5   \n",
       "233211               Action|Animation|Comedy|Sci-Fi       184     3.5   \n",
       "233212               Action|Animation|Comedy|Sci-Fi       184     3.5   \n",
       "\n",
       "        timestamp_x  userId_y        tag  timestamp_y  \n",
       "0         964982703       336      pixar   1139045764  \n",
       "1         964982703       474      pixar   1137206825  \n",
       "2         964982703       567        fun   1525286013  \n",
       "3         847434962       336      pixar   1139045764  \n",
       "4         847434962       474      pixar   1137206825  \n",
       "...             ...       ...        ...          ...  \n",
       "233208   1529899556        62  star wars   1528934552  \n",
       "233209   1537098554       184      anime   1537098582  \n",
       "233210   1537098554       184     comedy   1537098587  \n",
       "233211   1537098554       184    gintama   1537098603  \n",
       "233212   1537098554       184   remaster   1537098592  \n",
       "\n",
       "[233213 rows x 11 columns]"
      ]
     },
     "execution_count": 7,
     "metadata": {},
     "output_type": "execute_result"
    }
   ],
   "source": [
    "merged_table"
   ]
  },
  {
   "cell_type": "code",
   "execution_count": 8,
   "id": "05688245",
   "metadata": {},
   "outputs": [],
   "source": [
    "import pickle\n",
    "with open('imdb.pkl','wb') as f:\n",
    "        pickle.dump(merged_table,f)"
   ]
  },
  {
   "cell_type": "code",
   "execution_count": 9,
   "id": "ea406f8e",
   "metadata": {},
   "outputs": [],
   "source": [
    "with open('imdb.pkl','rb') as f:\n",
    "    df=pickle.load(f)"
   ]
  },
  {
   "cell_type": "code",
   "execution_count": 10,
   "id": "a642c92a",
   "metadata": {},
   "outputs": [
    {
     "data": {
      "text/html": [
       "<div>\n",
       "<style scoped>\n",
       "    .dataframe tbody tr th:only-of-type {\n",
       "        vertical-align: middle;\n",
       "    }\n",
       "\n",
       "    .dataframe tbody tr th {\n",
       "        vertical-align: top;\n",
       "    }\n",
       "\n",
       "    .dataframe thead th {\n",
       "        text-align: right;\n",
       "    }\n",
       "</style>\n",
       "<table border=\"1\" class=\"dataframe\">\n",
       "  <thead>\n",
       "    <tr style=\"text-align: right;\">\n",
       "      <th></th>\n",
       "      <th>movieId</th>\n",
       "      <th>imdbId</th>\n",
       "      <th>tmdbId</th>\n",
       "      <th>title</th>\n",
       "      <th>genres</th>\n",
       "      <th>userId_x</th>\n",
       "      <th>rating</th>\n",
       "      <th>timestamp_x</th>\n",
       "      <th>userId_y</th>\n",
       "      <th>tag</th>\n",
       "      <th>timestamp_y</th>\n",
       "    </tr>\n",
       "  </thead>\n",
       "  <tbody>\n",
       "    <tr>\n",
       "      <th>0</th>\n",
       "      <td>1</td>\n",
       "      <td>114709</td>\n",
       "      <td>862.0</td>\n",
       "      <td>Toy Story (1995)</td>\n",
       "      <td>Adventure|Animation|Children|Comedy|Fantasy</td>\n",
       "      <td>1</td>\n",
       "      <td>4.0</td>\n",
       "      <td>964982703</td>\n",
       "      <td>336</td>\n",
       "      <td>pixar</td>\n",
       "      <td>1139045764</td>\n",
       "    </tr>\n",
       "    <tr>\n",
       "      <th>1</th>\n",
       "      <td>1</td>\n",
       "      <td>114709</td>\n",
       "      <td>862.0</td>\n",
       "      <td>Toy Story (1995)</td>\n",
       "      <td>Adventure|Animation|Children|Comedy|Fantasy</td>\n",
       "      <td>1</td>\n",
       "      <td>4.0</td>\n",
       "      <td>964982703</td>\n",
       "      <td>474</td>\n",
       "      <td>pixar</td>\n",
       "      <td>1137206825</td>\n",
       "    </tr>\n",
       "    <tr>\n",
       "      <th>2</th>\n",
       "      <td>1</td>\n",
       "      <td>114709</td>\n",
       "      <td>862.0</td>\n",
       "      <td>Toy Story (1995)</td>\n",
       "      <td>Adventure|Animation|Children|Comedy|Fantasy</td>\n",
       "      <td>1</td>\n",
       "      <td>4.0</td>\n",
       "      <td>964982703</td>\n",
       "      <td>567</td>\n",
       "      <td>fun</td>\n",
       "      <td>1525286013</td>\n",
       "    </tr>\n",
       "    <tr>\n",
       "      <th>3</th>\n",
       "      <td>1</td>\n",
       "      <td>114709</td>\n",
       "      <td>862.0</td>\n",
       "      <td>Toy Story (1995)</td>\n",
       "      <td>Adventure|Animation|Children|Comedy|Fantasy</td>\n",
       "      <td>5</td>\n",
       "      <td>4.0</td>\n",
       "      <td>847434962</td>\n",
       "      <td>336</td>\n",
       "      <td>pixar</td>\n",
       "      <td>1139045764</td>\n",
       "    </tr>\n",
       "    <tr>\n",
       "      <th>4</th>\n",
       "      <td>1</td>\n",
       "      <td>114709</td>\n",
       "      <td>862.0</td>\n",
       "      <td>Toy Story (1995)</td>\n",
       "      <td>Adventure|Animation|Children|Comedy|Fantasy</td>\n",
       "      <td>5</td>\n",
       "      <td>4.0</td>\n",
       "      <td>847434962</td>\n",
       "      <td>474</td>\n",
       "      <td>pixar</td>\n",
       "      <td>1137206825</td>\n",
       "    </tr>\n",
       "    <tr>\n",
       "      <th>...</th>\n",
       "      <td>...</td>\n",
       "      <td>...</td>\n",
       "      <td>...</td>\n",
       "      <td>...</td>\n",
       "      <td>...</td>\n",
       "      <td>...</td>\n",
       "      <td>...</td>\n",
       "      <td>...</td>\n",
       "      <td>...</td>\n",
       "      <td>...</td>\n",
       "      <td>...</td>\n",
       "    </tr>\n",
       "    <tr>\n",
       "      <th>233208</th>\n",
       "      <td>187595</td>\n",
       "      <td>3778644</td>\n",
       "      <td>348350.0</td>\n",
       "      <td>Solo: A Star Wars Story (2018)</td>\n",
       "      <td>Action|Adventure|Children|Sci-Fi</td>\n",
       "      <td>586</td>\n",
       "      <td>5.0</td>\n",
       "      <td>1529899556</td>\n",
       "      <td>62</td>\n",
       "      <td>star wars</td>\n",
       "      <td>1528934552</td>\n",
       "    </tr>\n",
       "    <tr>\n",
       "      <th>233209</th>\n",
       "      <td>193565</td>\n",
       "      <td>1636780</td>\n",
       "      <td>71172.0</td>\n",
       "      <td>Gintama: The Movie (2010)</td>\n",
       "      <td>Action|Animation|Comedy|Sci-Fi</td>\n",
       "      <td>184</td>\n",
       "      <td>3.5</td>\n",
       "      <td>1537098554</td>\n",
       "      <td>184</td>\n",
       "      <td>anime</td>\n",
       "      <td>1537098582</td>\n",
       "    </tr>\n",
       "    <tr>\n",
       "      <th>233210</th>\n",
       "      <td>193565</td>\n",
       "      <td>1636780</td>\n",
       "      <td>71172.0</td>\n",
       "      <td>Gintama: The Movie (2010)</td>\n",
       "      <td>Action|Animation|Comedy|Sci-Fi</td>\n",
       "      <td>184</td>\n",
       "      <td>3.5</td>\n",
       "      <td>1537098554</td>\n",
       "      <td>184</td>\n",
       "      <td>comedy</td>\n",
       "      <td>1537098587</td>\n",
       "    </tr>\n",
       "    <tr>\n",
       "      <th>233211</th>\n",
       "      <td>193565</td>\n",
       "      <td>1636780</td>\n",
       "      <td>71172.0</td>\n",
       "      <td>Gintama: The Movie (2010)</td>\n",
       "      <td>Action|Animation|Comedy|Sci-Fi</td>\n",
       "      <td>184</td>\n",
       "      <td>3.5</td>\n",
       "      <td>1537098554</td>\n",
       "      <td>184</td>\n",
       "      <td>gintama</td>\n",
       "      <td>1537098603</td>\n",
       "    </tr>\n",
       "    <tr>\n",
       "      <th>233212</th>\n",
       "      <td>193565</td>\n",
       "      <td>1636780</td>\n",
       "      <td>71172.0</td>\n",
       "      <td>Gintama: The Movie (2010)</td>\n",
       "      <td>Action|Animation|Comedy|Sci-Fi</td>\n",
       "      <td>184</td>\n",
       "      <td>3.5</td>\n",
       "      <td>1537098554</td>\n",
       "      <td>184</td>\n",
       "      <td>remaster</td>\n",
       "      <td>1537098592</td>\n",
       "    </tr>\n",
       "  </tbody>\n",
       "</table>\n",
       "<p>233213 rows × 11 columns</p>\n",
       "</div>"
      ],
      "text/plain": [
       "        movieId   imdbId    tmdbId                           title  \\\n",
       "0             1   114709     862.0                Toy Story (1995)   \n",
       "1             1   114709     862.0                Toy Story (1995)   \n",
       "2             1   114709     862.0                Toy Story (1995)   \n",
       "3             1   114709     862.0                Toy Story (1995)   \n",
       "4             1   114709     862.0                Toy Story (1995)   \n",
       "...         ...      ...       ...                             ...   \n",
       "233208   187595  3778644  348350.0  Solo: A Star Wars Story (2018)   \n",
       "233209   193565  1636780   71172.0       Gintama: The Movie (2010)   \n",
       "233210   193565  1636780   71172.0       Gintama: The Movie (2010)   \n",
       "233211   193565  1636780   71172.0       Gintama: The Movie (2010)   \n",
       "233212   193565  1636780   71172.0       Gintama: The Movie (2010)   \n",
       "\n",
       "                                             genres  userId_x  rating  \\\n",
       "0       Adventure|Animation|Children|Comedy|Fantasy         1     4.0   \n",
       "1       Adventure|Animation|Children|Comedy|Fantasy         1     4.0   \n",
       "2       Adventure|Animation|Children|Comedy|Fantasy         1     4.0   \n",
       "3       Adventure|Animation|Children|Comedy|Fantasy         5     4.0   \n",
       "4       Adventure|Animation|Children|Comedy|Fantasy         5     4.0   \n",
       "...                                             ...       ...     ...   \n",
       "233208             Action|Adventure|Children|Sci-Fi       586     5.0   \n",
       "233209               Action|Animation|Comedy|Sci-Fi       184     3.5   \n",
       "233210               Action|Animation|Comedy|Sci-Fi       184     3.5   \n",
       "233211               Action|Animation|Comedy|Sci-Fi       184     3.5   \n",
       "233212               Action|Animation|Comedy|Sci-Fi       184     3.5   \n",
       "\n",
       "        timestamp_x  userId_y        tag  timestamp_y  \n",
       "0         964982703       336      pixar   1139045764  \n",
       "1         964982703       474      pixar   1137206825  \n",
       "2         964982703       567        fun   1525286013  \n",
       "3         847434962       336      pixar   1139045764  \n",
       "4         847434962       474      pixar   1137206825  \n",
       "...             ...       ...        ...          ...  \n",
       "233208   1529899556        62  star wars   1528934552  \n",
       "233209   1537098554       184      anime   1537098582  \n",
       "233210   1537098554       184     comedy   1537098587  \n",
       "233211   1537098554       184    gintama   1537098603  \n",
       "233212   1537098554       184   remaster   1537098592  \n",
       "\n",
       "[233213 rows x 11 columns]"
      ]
     },
     "execution_count": 10,
     "metadata": {},
     "output_type": "execute_result"
    }
   ],
   "source": [
    "df"
   ]
  },
  {
   "cell_type": "code",
   "execution_count": 11,
   "id": "07c7d519",
   "metadata": {},
   "outputs": [],
   "source": [
    "movie_rating_counts = df.groupby('title')['userId_x'].nunique()\n"
   ]
  },
  {
   "cell_type": "code",
   "execution_count": 12,
   "id": "5f809dfe",
   "metadata": {},
   "outputs": [
    {
     "data": {
      "text/plain": [
       "title\n",
       "(500) Days of Summer (2009)          42\n",
       "...And Justice for All (1979)         3\n",
       "10 Cloverfield Lane (2016)           14\n",
       "10 Things I Hate About You (1999)    54\n",
       "101 Dalmatians (1996)                47\n",
       "                                     ..\n",
       "Zero Dark Thirty (2012)              14\n",
       "Zombieland (2009)                    53\n",
       "Zoolander (2001)                     54\n",
       "Zulu (1964)                           4\n",
       "eXistenZ (1999)                      22\n",
       "Name: userId_x, Length: 1554, dtype: int64"
      ]
     },
     "execution_count": 12,
     "metadata": {},
     "output_type": "execute_result"
    }
   ],
   "source": [
    "movie_rating_counts "
   ]
  },
  {
   "cell_type": "code",
   "execution_count": 13,
   "id": "9314dfce",
   "metadata": {},
   "outputs": [
    {
     "data": {
      "text/plain": [
       "userId_x  rating\n",
       "560       4.0                                         eXistenZ (1999)\n",
       "182       4.5                                         eXistenZ (1999)\n",
       "603       5.0                                         eXistenZ (1999)\n",
       "477       3.5                                         eXistenZ (1999)\n",
       "312       4.0                                         eXistenZ (1999)\n",
       "                                          ...                        \n",
       "178       1.5       101 Dalmatians (One Hundred and One Dalmatians...\n",
       "301       2.0       101 Dalmatians (One Hundred and One Dalmatians...\n",
       "538       3.5                       10 Things I Hate About You (1999)\n",
       "575       2.0                       10 Things I Hate About You (1999)\n",
       "125       1.0                             (500) Days of Summer (2009)\n",
       "Name: title, Length: 3514, dtype: object"
      ]
     },
     "execution_count": 13,
     "metadata": {},
     "output_type": "execute_result"
    }
   ],
   "source": [
    "df.groupby(['userId_x','rating'])['title'].max().sort_values(ascending=False)"
   ]
  },
  {
   "cell_type": "code",
   "execution_count": 16,
   "id": "da1af46b",
   "metadata": {},
   "outputs": [
    {
     "data": {
      "text/plain": [
       "title\n",
       "(500) Days of Summer (2009)                          5.0\n",
       "Name of the Rose, The (Name der Rose, Der) (1986)    5.0\n",
       "Mystery Science Theater 3000: The Movie (1996)       5.0\n",
       "Mystery Men (1999)                                   5.0\n",
       "My Stepmother Is an Alien (1988)                     5.0\n",
       "                                                    ... \n",
       "Poltergeist II: The Other Side (1986)                2.0\n",
       "Oh, God! Book II (1980)                              1.5\n",
       "Losin' It (1983)                                     1.0\n",
       "My Demon Lover (1987)                                1.0\n",
       "Begotten (1990)                                      0.5\n",
       "Name: rating, Length: 1554, dtype: float64"
      ]
     },
     "execution_count": 16,
     "metadata": {},
     "output_type": "execute_result"
    }
   ],
   "source": [
    "df.groupby('title')['rating'].max().sort_values(ascending=False)"
   ]
  },
  {
   "cell_type": "code",
   "execution_count": 49,
   "id": "a83095f4",
   "metadata": {},
   "outputs": [
    {
     "data": {
      "text/plain": [
       "'Pulp Fiction (1994)'"
      ]
     },
     "execution_count": 49,
     "metadata": {},
     "output_type": "execute_result"
    }
   ],
   "source": [
    "#Which movie has recieved maximum number of user ratings?\n",
    "df.groupby('title')['userId_x'].count().idxmax()"
   ]
  },
  {
   "cell_type": "code",
   "execution_count": 18,
   "id": "6d586906",
   "metadata": {},
   "outputs": [],
   "source": [
    "ratings_count = df.groupby('movieId')['rating'].count()"
   ]
  },
  {
   "cell_type": "code",
   "execution_count": 19,
   "id": "c6dc9e5d",
   "metadata": {},
   "outputs": [
    {
     "data": {
      "text/plain": [
       "movieId\n",
       "1         645\n",
       "2         440\n",
       "3         104\n",
       "5          98\n",
       "7          54\n",
       "         ... \n",
       "183611      3\n",
       "184471     12\n",
       "187593     36\n",
       "187595     10\n",
       "193565      4\n",
       "Name: rating, Length: 1554, dtype: int64"
      ]
     },
     "execution_count": 19,
     "metadata": {},
     "output_type": "execute_result"
    }
   ],
   "source": [
    "ratings_count"
   ]
  },
  {
   "cell_type": "code",
   "execution_count": 20,
   "id": "c3c9832c",
   "metadata": {},
   "outputs": [],
   "source": [
    "max_ratings_movie = ratings_count.idxmax()"
   ]
  },
  {
   "cell_type": "code",
   "execution_count": 21,
   "id": "b39a6a8f",
   "metadata": {},
   "outputs": [
    {
     "data": {
      "text/plain": [
       "296"
      ]
     },
     "execution_count": 21,
     "metadata": {},
     "output_type": "execute_result"
    }
   ],
   "source": [
    "max_ratings_movie "
   ]
  },
  {
   "cell_type": "code",
   "execution_count": 50,
   "id": "db310c45",
   "metadata": {},
   "outputs": [],
   "source": [
    "#Select all the correct tags submitted by users to \"Matrix, The (1999)\" movie?\n",
    "\n",
    "matrix_tags = df.loc[df['title'] == 'Matrix, The (1999)', 'tag']\n"
   ]
  },
  {
   "cell_type": "code",
   "execution_count": 51,
   "id": "4cb359ff",
   "metadata": {},
   "outputs": [
    {
     "data": {
      "text/plain": [
       "5"
      ]
     },
     "execution_count": 51,
     "metadata": {},
     "output_type": "execute_result"
    }
   ],
   "source": [
    "matrix_tags.nunique()"
   ]
  },
  {
   "cell_type": "code",
   "execution_count": 52,
   "id": "d51e13de",
   "metadata": {},
   "outputs": [
    {
     "data": {
      "text/plain": [
       "142140          martial arts\n",
       "142141                sci-fi\n",
       "142142    alternate universe\n",
       "142143            philosophy\n",
       "142144      post apocalyptic\n",
       "                 ...        \n",
       "143525          martial arts\n",
       "143526                sci-fi\n",
       "143527    alternate universe\n",
       "143528            philosophy\n",
       "143529      post apocalyptic\n",
       "Name: tag, Length: 1390, dtype: object"
      ]
     },
     "execution_count": 52,
     "metadata": {},
     "output_type": "execute_result"
    }
   ],
   "source": [
    "matrix_tags"
   ]
  },
  {
   "cell_type": "code",
   "execution_count": 25,
   "id": "28b8c133",
   "metadata": {},
   "outputs": [],
   "source": [
    "#What is the average user rating for movie named \"Terminator 2: Judgment Day (1991)\"?\n",
    "\n",
    "t2_ratings = df.loc[df['title'] == 'Terminator 2: Judgment Day (1991)', 'rating']\n",
    "\n",
    "# Calculating the average rating\n",
    "avg_rating = t2_ratings.mean()\n"
   ]
  },
  {
   "cell_type": "code",
   "execution_count": 26,
   "id": "0055d0f4",
   "metadata": {},
   "outputs": [
    {
     "data": {
      "text/plain": [
       "3.970982142857143"
      ]
     },
     "execution_count": 26,
     "metadata": {},
     "output_type": "execute_result"
    }
   ],
   "source": [
    "avg_rating"
   ]
  },
  {
   "cell_type": "code",
   "execution_count": 53,
   "id": "0d11ce86",
   "metadata": {},
   "outputs": [
    {
     "data": {
      "image/png": "[encoded data removed]",
      "text/plain": [
       "<Figure size 640x480 with 1 Axes>"
      ]
     },
     "metadata": {},
     "output_type": "display_data"
    }
   ],
   "source": [
    "#How does the data distribution of user ratings for \"Fight Club (1999)\" movie looks like?\n",
    "\n",
    "# Filter the DataFrame to include only the ratings for \"Fight Club (1999)\"\n",
    "FC = df.loc[df['title'] == 'Fight Club (1999)', 'rating']\n",
    "\n",
    "# Plot the data distribution\n",
    "plt.hist(FC , bins=10, edgecolor='black')\n",
    "plt.xlabel('Rating')\n",
    "plt.ylabel('Frequency')\n",
    "plt.title('Data Distribution of User Ratings for \"Fight Club (1999)\"')\n",
    "plt.show()"
   ]
  },
  {
   "cell_type": "markdown",
   "id": "35ed9a82",
   "metadata": {},
   "source": [
    "## Left-skewed distribution"
   ]
  },
  {
   "cell_type": "code",
   "execution_count": null,
   "id": "192cb27a",
   "metadata": {},
   "outputs": [],
   "source": []
  },
  {
   "cell_type": "markdown",
   "id": "a31dc56a",
   "metadata": {},
   "source": [
    "Mandatory Operations:\n",
    "1. Group the user ratings based on movieId and apply aggregation operations like count and mean on ratings. \n",
    "2. Apply inner join on dataframe created from movies.csv and the grouped df from step 1.\n",
    "3. Filter only those movies which have more than 50 user ratings (i.e. > 50).\n",
    "\n",
    "Above steps will make sure that your data contains only those movies which has recieved more than 50 user ratings.\n"
   ]
  },
  {
   "cell_type": "code",
   "execution_count": 28,
   "id": "e59773ae",
   "metadata": {},
   "outputs": [],
   "source": [
    "# Group the user ratings based on movieId and apply aggregation operations like count and mean on ratings\n",
    "movie_ratings = df.groupby('movieId')['rating'].agg(['count', 'mean']).reset_index()\n"
   ]
  },
  {
   "cell_type": "code",
   "execution_count": 29,
   "id": "8067a1ef",
   "metadata": {},
   "outputs": [
    {
     "data": {
      "text/html": [
       "<div>\n",
       "<style scoped>\n",
       "    .dataframe tbody tr th:only-of-type {\n",
       "        vertical-align: middle;\n",
       "    }\n",
       "\n",
       "    .dataframe tbody tr th {\n",
       "        vertical-align: top;\n",
       "    }\n",
       "\n",
       "    .dataframe thead th {\n",
       "        text-align: right;\n",
       "    }\n",
       "</style>\n",
       "<table border=\"1\" class=\"dataframe\">\n",
       "  <thead>\n",
       "    <tr style=\"text-align: right;\">\n",
       "      <th></th>\n",
       "      <th>movieId</th>\n",
       "      <th>count</th>\n",
       "      <th>mean</th>\n",
       "    </tr>\n",
       "  </thead>\n",
       "  <tbody>\n",
       "    <tr>\n",
       "      <th>0</th>\n",
       "      <td>1</td>\n",
       "      <td>645</td>\n",
       "      <td>3.920930</td>\n",
       "    </tr>\n",
       "    <tr>\n",
       "      <th>1</th>\n",
       "      <td>2</td>\n",
       "      <td>440</td>\n",
       "      <td>3.431818</td>\n",
       "    </tr>\n",
       "    <tr>\n",
       "      <th>2</th>\n",
       "      <td>3</td>\n",
       "      <td>104</td>\n",
       "      <td>3.259615</td>\n",
       "    </tr>\n",
       "    <tr>\n",
       "      <th>3</th>\n",
       "      <td>5</td>\n",
       "      <td>98</td>\n",
       "      <td>3.071429</td>\n",
       "    </tr>\n",
       "    <tr>\n",
       "      <th>4</th>\n",
       "      <td>7</td>\n",
       "      <td>54</td>\n",
       "      <td>3.185185</td>\n",
       "    </tr>\n",
       "    <tr>\n",
       "      <th>...</th>\n",
       "      <td>...</td>\n",
       "      <td>...</td>\n",
       "      <td>...</td>\n",
       "    </tr>\n",
       "    <tr>\n",
       "      <th>1549</th>\n",
       "      <td>183611</td>\n",
       "      <td>3</td>\n",
       "      <td>4.000000</td>\n",
       "    </tr>\n",
       "    <tr>\n",
       "      <th>1550</th>\n",
       "      <td>184471</td>\n",
       "      <td>12</td>\n",
       "      <td>2.500000</td>\n",
       "    </tr>\n",
       "    <tr>\n",
       "      <th>1551</th>\n",
       "      <td>187593</td>\n",
       "      <td>36</td>\n",
       "      <td>3.875000</td>\n",
       "    </tr>\n",
       "    <tr>\n",
       "      <th>1552</th>\n",
       "      <td>187595</td>\n",
       "      <td>10</td>\n",
       "      <td>3.900000</td>\n",
       "    </tr>\n",
       "    <tr>\n",
       "      <th>1553</th>\n",
       "      <td>193565</td>\n",
       "      <td>4</td>\n",
       "      <td>3.500000</td>\n",
       "    </tr>\n",
       "  </tbody>\n",
       "</table>\n",
       "<p>1554 rows × 3 columns</p>\n",
       "</div>"
      ],
      "text/plain": [
       "      movieId  count      mean\n",
       "0           1    645  3.920930\n",
       "1           2    440  3.431818\n",
       "2           3    104  3.259615\n",
       "3           5     98  3.071429\n",
       "4           7     54  3.185185\n",
       "...       ...    ...       ...\n",
       "1549   183611      3  4.000000\n",
       "1550   184471     12  2.500000\n",
       "1551   187593     36  3.875000\n",
       "1552   187595     10  3.900000\n",
       "1553   193565      4  3.500000\n",
       "\n",
       "[1554 rows x 3 columns]"
      ]
     },
     "execution_count": 29,
     "metadata": {},
     "output_type": "execute_result"
    }
   ],
   "source": [
    "movie_ratings"
   ]
  },
  {
   "cell_type": "code",
   "execution_count": 30,
   "id": "282251c5",
   "metadata": {},
   "outputs": [],
   "source": [
    "# Apply inner join on dataframe created from movies.csv and the grouped df from step 1\n",
    "merged_df = pd.merge(movie, movie_ratings, on='movieId', how='inner')"
   ]
  },
  {
   "cell_type": "code",
   "execution_count": 31,
   "id": "068f1326",
   "metadata": {},
   "outputs": [
    {
     "data": {
      "text/html": [
       "<div>\n",
       "<style scoped>\n",
       "    .dataframe tbody tr th:only-of-type {\n",
       "        vertical-align: middle;\n",
       "    }\n",
       "\n",
       "    .dataframe tbody tr th {\n",
       "        vertical-align: top;\n",
       "    }\n",
       "\n",
       "    .dataframe thead th {\n",
       "        text-align: right;\n",
       "    }\n",
       "</style>\n",
       "<table border=\"1\" class=\"dataframe\">\n",
       "  <thead>\n",
       "    <tr style=\"text-align: right;\">\n",
       "      <th></th>\n",
       "      <th>movieId</th>\n",
       "      <th>title</th>\n",
       "      <th>genres</th>\n",
       "      <th>count</th>\n",
       "      <th>mean</th>\n",
       "    </tr>\n",
       "  </thead>\n",
       "  <tbody>\n",
       "    <tr>\n",
       "      <th>0</th>\n",
       "      <td>1</td>\n",
       "      <td>Toy Story (1995)</td>\n",
       "      <td>Adventure|Animation|Children|Comedy|Fantasy</td>\n",
       "      <td>645</td>\n",
       "      <td>3.920930</td>\n",
       "    </tr>\n",
       "    <tr>\n",
       "      <th>1</th>\n",
       "      <td>2</td>\n",
       "      <td>Jumanji (1995)</td>\n",
       "      <td>Adventure|Children|Fantasy</td>\n",
       "      <td>440</td>\n",
       "      <td>3.431818</td>\n",
       "    </tr>\n",
       "    <tr>\n",
       "      <th>2</th>\n",
       "      <td>3</td>\n",
       "      <td>Grumpier Old Men (1995)</td>\n",
       "      <td>Comedy|Romance</td>\n",
       "      <td>104</td>\n",
       "      <td>3.259615</td>\n",
       "    </tr>\n",
       "    <tr>\n",
       "      <th>3</th>\n",
       "      <td>5</td>\n",
       "      <td>Father of the Bride Part II (1995)</td>\n",
       "      <td>Comedy</td>\n",
       "      <td>98</td>\n",
       "      <td>3.071429</td>\n",
       "    </tr>\n",
       "    <tr>\n",
       "      <th>4</th>\n",
       "      <td>7</td>\n",
       "      <td>Sabrina (1995)</td>\n",
       "      <td>Comedy|Romance</td>\n",
       "      <td>54</td>\n",
       "      <td>3.185185</td>\n",
       "    </tr>\n",
       "    <tr>\n",
       "      <th>...</th>\n",
       "      <td>...</td>\n",
       "      <td>...</td>\n",
       "      <td>...</td>\n",
       "      <td>...</td>\n",
       "      <td>...</td>\n",
       "    </tr>\n",
       "    <tr>\n",
       "      <th>1549</th>\n",
       "      <td>183611</td>\n",
       "      <td>Game Night (2018)</td>\n",
       "      <td>Action|Comedy|Crime|Horror</td>\n",
       "      <td>3</td>\n",
       "      <td>4.000000</td>\n",
       "    </tr>\n",
       "    <tr>\n",
       "      <th>1550</th>\n",
       "      <td>184471</td>\n",
       "      <td>Tomb Raider (2018)</td>\n",
       "      <td>Action|Adventure|Fantasy</td>\n",
       "      <td>12</td>\n",
       "      <td>2.500000</td>\n",
       "    </tr>\n",
       "    <tr>\n",
       "      <th>1551</th>\n",
       "      <td>187593</td>\n",
       "      <td>Deadpool 2 (2018)</td>\n",
       "      <td>Action|Comedy|Sci-Fi</td>\n",
       "      <td>36</td>\n",
       "      <td>3.875000</td>\n",
       "    </tr>\n",
       "    <tr>\n",
       "      <th>1552</th>\n",
       "      <td>187595</td>\n",
       "      <td>Solo: A Star Wars Story (2018)</td>\n",
       "      <td>Action|Adventure|Children|Sci-Fi</td>\n",
       "      <td>10</td>\n",
       "      <td>3.900000</td>\n",
       "    </tr>\n",
       "    <tr>\n",
       "      <th>1553</th>\n",
       "      <td>193565</td>\n",
       "      <td>Gintama: The Movie (2010)</td>\n",
       "      <td>Action|Animation|Comedy|Sci-Fi</td>\n",
       "      <td>4</td>\n",
       "      <td>3.500000</td>\n",
       "    </tr>\n",
       "  </tbody>\n",
       "</table>\n",
       "<p>1554 rows × 5 columns</p>\n",
       "</div>"
      ],
      "text/plain": [
       "      movieId                               title  \\\n",
       "0           1                    Toy Story (1995)   \n",
       "1           2                      Jumanji (1995)   \n",
       "2           3             Grumpier Old Men (1995)   \n",
       "3           5  Father of the Bride Part II (1995)   \n",
       "4           7                      Sabrina (1995)   \n",
       "...       ...                                 ...   \n",
       "1549   183611                   Game Night (2018)   \n",
       "1550   184471                  Tomb Raider (2018)   \n",
       "1551   187593                   Deadpool 2 (2018)   \n",
       "1552   187595      Solo: A Star Wars Story (2018)   \n",
       "1553   193565           Gintama: The Movie (2010)   \n",
       "\n",
       "                                           genres  count      mean  \n",
       "0     Adventure|Animation|Children|Comedy|Fantasy    645  3.920930  \n",
       "1                      Adventure|Children|Fantasy    440  3.431818  \n",
       "2                                  Comedy|Romance    104  3.259615  \n",
       "3                                          Comedy     98  3.071429  \n",
       "4                                  Comedy|Romance     54  3.185185  \n",
       "...                                           ...    ...       ...  \n",
       "1549                   Action|Comedy|Crime|Horror      3  4.000000  \n",
       "1550                     Action|Adventure|Fantasy     12  2.500000  \n",
       "1551                         Action|Comedy|Sci-Fi     36  3.875000  \n",
       "1552             Action|Adventure|Children|Sci-Fi     10  3.900000  \n",
       "1553               Action|Animation|Comedy|Sci-Fi      4  3.500000  \n",
       "\n",
       "[1554 rows x 5 columns]"
      ]
     },
     "execution_count": 31,
     "metadata": {},
     "output_type": "execute_result"
    }
   ],
   "source": [
    "merged_df"
   ]
  },
  {
   "cell_type": "code",
   "execution_count": 32,
   "id": "e79a3ca4",
   "metadata": {},
   "outputs": [],
   "source": [
    "# Filter only those movies which have more than 50 user ratings (i.e. > 50)\n",
    "popular_movies = merged_df[merged_df['count'] > 50]\n"
   ]
  },
  {
   "cell_type": "code",
   "execution_count": 33,
   "id": "80efd1f6",
   "metadata": {},
   "outputs": [
    {
     "data": {
      "text/html": [
       "<div>\n",
       "<style scoped>\n",
       "    .dataframe tbody tr th:only-of-type {\n",
       "        vertical-align: middle;\n",
       "    }\n",
       "\n",
       "    .dataframe tbody tr th {\n",
       "        vertical-align: top;\n",
       "    }\n",
       "\n",
       "    .dataframe thead th {\n",
       "        text-align: right;\n",
       "    }\n",
       "</style>\n",
       "<table border=\"1\" class=\"dataframe\">\n",
       "  <thead>\n",
       "    <tr style=\"text-align: right;\">\n",
       "      <th></th>\n",
       "      <th>movieId</th>\n",
       "      <th>title</th>\n",
       "      <th>genres</th>\n",
       "      <th>count</th>\n",
       "      <th>mean</th>\n",
       "    </tr>\n",
       "  </thead>\n",
       "  <tbody>\n",
       "    <tr>\n",
       "      <th>0</th>\n",
       "      <td>1</td>\n",
       "      <td>Toy Story (1995)</td>\n",
       "      <td>Adventure|Animation|Children|Comedy|Fantasy</td>\n",
       "      <td>645</td>\n",
       "      <td>3.920930</td>\n",
       "    </tr>\n",
       "    <tr>\n",
       "      <th>1</th>\n",
       "      <td>2</td>\n",
       "      <td>Jumanji (1995)</td>\n",
       "      <td>Adventure|Children|Fantasy</td>\n",
       "      <td>440</td>\n",
       "      <td>3.431818</td>\n",
       "    </tr>\n",
       "    <tr>\n",
       "      <th>2</th>\n",
       "      <td>3</td>\n",
       "      <td>Grumpier Old Men (1995)</td>\n",
       "      <td>Comedy|Romance</td>\n",
       "      <td>104</td>\n",
       "      <td>3.259615</td>\n",
       "    </tr>\n",
       "    <tr>\n",
       "      <th>3</th>\n",
       "      <td>5</td>\n",
       "      <td>Father of the Bride Part II (1995)</td>\n",
       "      <td>Comedy</td>\n",
       "      <td>98</td>\n",
       "      <td>3.071429</td>\n",
       "    </tr>\n",
       "    <tr>\n",
       "      <th>4</th>\n",
       "      <td>7</td>\n",
       "      <td>Sabrina (1995)</td>\n",
       "      <td>Comedy|Romance</td>\n",
       "      <td>54</td>\n",
       "      <td>3.185185</td>\n",
       "    </tr>\n",
       "    <tr>\n",
       "      <th>...</th>\n",
       "      <td>...</td>\n",
       "      <td>...</td>\n",
       "      <td>...</td>\n",
       "      <td>...</td>\n",
       "      <td>...</td>\n",
       "    </tr>\n",
       "    <tr>\n",
       "      <th>1525</th>\n",
       "      <td>148626</td>\n",
       "      <td>Big Short, The (2015)</td>\n",
       "      <td>Drama</td>\n",
       "      <td>78</td>\n",
       "      <td>3.961538</td>\n",
       "    </tr>\n",
       "    <tr>\n",
       "      <th>1536</th>\n",
       "      <td>164179</td>\n",
       "      <td>Arrival (2016)</td>\n",
       "      <td>Sci-Fi</td>\n",
       "      <td>182</td>\n",
       "      <td>3.980769</td>\n",
       "    </tr>\n",
       "    <tr>\n",
       "      <th>1539</th>\n",
       "      <td>168248</td>\n",
       "      <td>John Wick: Chapter Two (2017)</td>\n",
       "      <td>Action|Crime|Thriller</td>\n",
       "      <td>56</td>\n",
       "      <td>4.142857</td>\n",
       "    </tr>\n",
       "    <tr>\n",
       "      <th>1540</th>\n",
       "      <td>168252</td>\n",
       "      <td>Logan (2017)</td>\n",
       "      <td>Action|Sci-Fi</td>\n",
       "      <td>125</td>\n",
       "      <td>4.280000</td>\n",
       "    </tr>\n",
       "    <tr>\n",
       "      <th>1544</th>\n",
       "      <td>176371</td>\n",
       "      <td>Blade Runner 2049 (2017)</td>\n",
       "      <td>Sci-Fi</td>\n",
       "      <td>144</td>\n",
       "      <td>3.805556</td>\n",
       "    </tr>\n",
       "  </tbody>\n",
       "</table>\n",
       "<p>480 rows × 5 columns</p>\n",
       "</div>"
      ],
      "text/plain": [
       "      movieId                               title  \\\n",
       "0           1                    Toy Story (1995)   \n",
       "1           2                      Jumanji (1995)   \n",
       "2           3             Grumpier Old Men (1995)   \n",
       "3           5  Father of the Bride Part II (1995)   \n",
       "4           7                      Sabrina (1995)   \n",
       "...       ...                                 ...   \n",
       "1525   148626               Big Short, The (2015)   \n",
       "1536   164179                      Arrival (2016)   \n",
       "1539   168248       John Wick: Chapter Two (2017)   \n",
       "1540   168252                        Logan (2017)   \n",
       "1544   176371            Blade Runner 2049 (2017)   \n",
       "\n",
       "                                           genres  count      mean  \n",
       "0     Adventure|Animation|Children|Comedy|Fantasy    645  3.920930  \n",
       "1                      Adventure|Children|Fantasy    440  3.431818  \n",
       "2                                  Comedy|Romance    104  3.259615  \n",
       "3                                          Comedy     98  3.071429  \n",
       "4                                  Comedy|Romance     54  3.185185  \n",
       "...                                           ...    ...       ...  \n",
       "1525                                        Drama     78  3.961538  \n",
       "1536                                       Sci-Fi    182  3.980769  \n",
       "1539                        Action|Crime|Thriller     56  4.142857  \n",
       "1540                                Action|Sci-Fi    125  4.280000  \n",
       "1544                                       Sci-Fi    144  3.805556  \n",
       "\n",
       "[480 rows x 5 columns]"
      ]
     },
     "execution_count": 33,
     "metadata": {},
     "output_type": "execute_result"
    }
   ],
   "source": [
    "popular_movies"
   ]
  },
  {
   "cell_type": "code",
   "execution_count": 34,
   "id": "12282225",
   "metadata": {},
   "outputs": [],
   "source": [
    "#Which movie is the most popular based on  average user ratings?\n",
    "\n",
    "most_popular_movie = popular_movies.loc[popular_movies['mean'].idxmax(), 'title']"
   ]
  },
  {
   "cell_type": "code",
   "execution_count": 35,
   "id": "a66ab96c",
   "metadata": {},
   "outputs": [
    {
     "data": {
      "text/plain": [
       "'Shawshank Redemption, The (1994)'"
      ]
     },
     "execution_count": 35,
     "metadata": {},
     "output_type": "execute_result"
    }
   ],
   "source": [
    "most_popular_movie"
   ]
  },
  {
   "cell_type": "code",
   "execution_count": 36,
   "id": "33f3c94a",
   "metadata": {},
   "outputs": [
    {
     "data": {
      "text/html": [
       "<div>\n",
       "<style scoped>\n",
       "    .dataframe tbody tr th:only-of-type {\n",
       "        vertical-align: middle;\n",
       "    }\n",
       "\n",
       "    .dataframe tbody tr th {\n",
       "        vertical-align: top;\n",
       "    }\n",
       "\n",
       "    .dataframe thead th {\n",
       "        text-align: right;\n",
       "    }\n",
       "</style>\n",
       "<table border=\"1\" class=\"dataframe\">\n",
       "  <thead>\n",
       "    <tr style=\"text-align: right;\">\n",
       "      <th></th>\n",
       "      <th>movieId</th>\n",
       "      <th>title</th>\n",
       "      <th>genres</th>\n",
       "      <th>count</th>\n",
       "      <th>mean</th>\n",
       "    </tr>\n",
       "  </thead>\n",
       "  <tbody>\n",
       "    <tr>\n",
       "      <th>0</th>\n",
       "      <td>1</td>\n",
       "      <td>Toy Story (1995)</td>\n",
       "      <td>Adventure|Animation|Children|Comedy|Fantasy</td>\n",
       "      <td>645</td>\n",
       "      <td>3.920930</td>\n",
       "    </tr>\n",
       "    <tr>\n",
       "      <th>1</th>\n",
       "      <td>2</td>\n",
       "      <td>Jumanji (1995)</td>\n",
       "      <td>Adventure|Children|Fantasy</td>\n",
       "      <td>440</td>\n",
       "      <td>3.431818</td>\n",
       "    </tr>\n",
       "    <tr>\n",
       "      <th>2</th>\n",
       "      <td>3</td>\n",
       "      <td>Grumpier Old Men (1995)</td>\n",
       "      <td>Comedy|Romance</td>\n",
       "      <td>104</td>\n",
       "      <td>3.259615</td>\n",
       "    </tr>\n",
       "    <tr>\n",
       "      <th>3</th>\n",
       "      <td>5</td>\n",
       "      <td>Father of the Bride Part II (1995)</td>\n",
       "      <td>Comedy</td>\n",
       "      <td>98</td>\n",
       "      <td>3.071429</td>\n",
       "    </tr>\n",
       "    <tr>\n",
       "      <th>4</th>\n",
       "      <td>7</td>\n",
       "      <td>Sabrina (1995)</td>\n",
       "      <td>Comedy|Romance</td>\n",
       "      <td>54</td>\n",
       "      <td>3.185185</td>\n",
       "    </tr>\n",
       "    <tr>\n",
       "      <th>...</th>\n",
       "      <td>...</td>\n",
       "      <td>...</td>\n",
       "      <td>...</td>\n",
       "      <td>...</td>\n",
       "      <td>...</td>\n",
       "    </tr>\n",
       "    <tr>\n",
       "      <th>1549</th>\n",
       "      <td>183611</td>\n",
       "      <td>Game Night (2018)</td>\n",
       "      <td>Action|Comedy|Crime|Horror</td>\n",
       "      <td>3</td>\n",
       "      <td>4.000000</td>\n",
       "    </tr>\n",
       "    <tr>\n",
       "      <th>1550</th>\n",
       "      <td>184471</td>\n",
       "      <td>Tomb Raider (2018)</td>\n",
       "      <td>Action|Adventure|Fantasy</td>\n",
       "      <td>12</td>\n",
       "      <td>2.500000</td>\n",
       "    </tr>\n",
       "    <tr>\n",
       "      <th>1551</th>\n",
       "      <td>187593</td>\n",
       "      <td>Deadpool 2 (2018)</td>\n",
       "      <td>Action|Comedy|Sci-Fi</td>\n",
       "      <td>36</td>\n",
       "      <td>3.875000</td>\n",
       "    </tr>\n",
       "    <tr>\n",
       "      <th>1552</th>\n",
       "      <td>187595</td>\n",
       "      <td>Solo: A Star Wars Story (2018)</td>\n",
       "      <td>Action|Adventure|Children|Sci-Fi</td>\n",
       "      <td>10</td>\n",
       "      <td>3.900000</td>\n",
       "    </tr>\n",
       "    <tr>\n",
       "      <th>1553</th>\n",
       "      <td>193565</td>\n",
       "      <td>Gintama: The Movie (2010)</td>\n",
       "      <td>Action|Animation|Comedy|Sci-Fi</td>\n",
       "      <td>4</td>\n",
       "      <td>3.500000</td>\n",
       "    </tr>\n",
       "  </tbody>\n",
       "</table>\n",
       "<p>1554 rows × 5 columns</p>\n",
       "</div>"
      ],
      "text/plain": [
       "      movieId                               title  \\\n",
       "0           1                    Toy Story (1995)   \n",
       "1           2                      Jumanji (1995)   \n",
       "2           3             Grumpier Old Men (1995)   \n",
       "3           5  Father of the Bride Part II (1995)   \n",
       "4           7                      Sabrina (1995)   \n",
       "...       ...                                 ...   \n",
       "1549   183611                   Game Night (2018)   \n",
       "1550   184471                  Tomb Raider (2018)   \n",
       "1551   187593                   Deadpool 2 (2018)   \n",
       "1552   187595      Solo: A Star Wars Story (2018)   \n",
       "1553   193565           Gintama: The Movie (2010)   \n",
       "\n",
       "                                           genres  count      mean  \n",
       "0     Adventure|Animation|Children|Comedy|Fantasy    645  3.920930  \n",
       "1                      Adventure|Children|Fantasy    440  3.431818  \n",
       "2                                  Comedy|Romance    104  3.259615  \n",
       "3                                          Comedy     98  3.071429  \n",
       "4                                  Comedy|Romance     54  3.185185  \n",
       "...                                           ...    ...       ...  \n",
       "1549                   Action|Comedy|Crime|Horror      3  4.000000  \n",
       "1550                     Action|Adventure|Fantasy     12  2.500000  \n",
       "1551                         Action|Comedy|Sci-Fi     36  3.875000  \n",
       "1552             Action|Adventure|Children|Sci-Fi     10  3.900000  \n",
       "1553               Action|Animation|Comedy|Sci-Fi      4  3.500000  \n",
       "\n",
       "[1554 rows x 5 columns]"
      ]
     },
     "execution_count": 36,
     "metadata": {},
     "output_type": "execute_result"
    }
   ],
   "source": [
    "merged_df"
   ]
  },
  {
   "cell_type": "code",
   "execution_count": 38,
   "id": "f2c4636c",
   "metadata": {},
   "outputs": [],
   "source": [
    "#Which Sci-Fi movie is \"third most popular\" based on the number of user ratings?\n",
    "\n",
    "\n",
    "# Filter the DataFrame to include only the Sci-Fi movies\n",
    "scifi_movies = df[df['genres'].str.contains('Sci-Fi')]\n",
    "\n",
    "# Group the user ratings based on movieId and applying aggregation operations \n",
    "movie_ratings = df.groupby('movieId')['rating'].agg(['count', 'mean']).reset_index()\n",
    "\n",
    "# inner join on dataframe\n",
    "merged_df = pd.merge(scifi_movies, movie_ratings, on='movieId', how='inner')\n",
    "\n",
    "# Sort the movies by number of user ratings in descending order\n",
    "sorted_movies = merged_df.sort_values(by='count', ascending=False)\n",
    "\n",
    "# Select the third most popular movie\n",
    "third_most_popular_movie = sorted_movies.iloc[2]['title']"
   ]
  },
  {
   "cell_type": "code",
   "execution_count": 39,
   "id": "63d1b4a4",
   "metadata": {},
   "outputs": [
    {
     "data": {
      "text/plain": [
       "'Star Wars: Episode IV - A New Hope (1977)'"
      ]
     },
     "execution_count": 39,
     "metadata": {},
     "output_type": "execute_result"
    }
   ],
   "source": [
    "third_most_popular_movie"
   ]
  },
  {
   "cell_type": "code",
   "execution_count": 42,
   "id": "d69021f3",
   "metadata": {},
   "outputs": [
    {
     "name": "stdout",
     "output_type": "stream",
     "text": [
      "The movieId of the movie with the highest IMDb rating is 180031.\n"
     ]
    }
   ],
   "source": [
    "#write a python code for Mention the movieId of the movie which has the highest IMDB rating.\n",
    "\n",
    "# Find the row with the highest IMDb rating\n",
    "highest_rated_movie = df.loc[df['imdbId'].idxmax()]\n",
    "\n",
    "print(f\"The movieId of the movie with the highest IMDb rating is {highest_rated_movie['movieId']}.\")"
   ]
  },
  {
   "cell_type": "code",
   "execution_count": 43,
   "id": "e66c2f23",
   "metadata": {},
   "outputs": [
    {
     "data": {
      "text/plain": [
       "movieId                                                     4993\n",
       "imdbId                                                    120737\n",
       "tmdbId                                                     120.0\n",
       "title          Lord of the Rings: The Fellowship of the Ring,...\n",
       "genres                                         Adventure|Fantasy\n",
       "userId_x                                                     112\n",
       "rating                                                       5.0\n",
       "timestamp_x                                           1442535783\n",
       "userId_y                                                     424\n",
       "tag                                                      fantasy\n",
       "timestamp_y                                           1457901156\n",
       "Name: 180031, dtype: object"
      ]
     },
     "execution_count": 43,
     "metadata": {},
     "output_type": "execute_result"
    }
   ],
   "source": [
    "df.iloc[180031]"
   ]
  },
  {
   "cell_type": "code",
   "execution_count": 44,
   "id": "d1fee00c",
   "metadata": {},
   "outputs": [
    {
     "name": "stdout",
     "output_type": "stream",
     "text": [
      "The movieId of the Sci-Fi movie with the highest IMDb rating is 187593.\n"
     ]
    }
   ],
   "source": [
    "#Mention the movieId of the \"Sci-Fi\" movie which has the highest IMDB rating.\n",
    "\n",
    "# Filter the DataFrame to include only the Sci-Fi movies\n",
    "scifi_movies = df[df['genres'].str.contains('Sci-Fi')]\n",
    "\n",
    "# Find the row with the highest IMDb rating\n",
    "highest_rated_scifi_movie = scifi_movies.loc[scifi_movies['imdbId'].idxmax()]\n",
    "\n",
    "print(f\"The movieId of the Sci-Fi movie with the highest IMDb rating is {highest_rated_scifi_movie['movieId']}.\")"
   ]
  },
  {
   "cell_type": "code",
   "execution_count": 45,
   "id": "85431839",
   "metadata": {},
   "outputs": [
    {
     "data": {
      "text/plain": [
       "movieId                        6502\n",
       "imdbId                       289043\n",
       "tmdbId                        170.0\n",
       "title          28 Days Later (2002)\n",
       "genres         Action|Horror|Sci-Fi\n",
       "userId_x                        357\n",
       "rating                          4.5\n",
       "timestamp_x              1348610808\n",
       "userId_y                        305\n",
       "tag                         zombies\n",
       "timestamp_y              1525274359\n",
       "Name: 187593, dtype: object"
      ]
     },
     "execution_count": 45,
     "metadata": {},
     "output_type": "execute_result"
    }
   ],
   "source": [
    "df.iloc[187593]"
   ]
  },
  {
   "cell_type": "code",
   "execution_count": null,
   "id": "08bb2a1d",
   "metadata": {},
   "outputs": [],
   "source": []
  },
  {
   "cell_type": "code",
   "execution_count": null,
   "id": "143cacab",
   "metadata": {},
   "outputs": [],
   "source": []
  },
  {
   "cell_type": "code",
   "execution_count": null,
   "id": "d853d9ea",
   "metadata": {},
   "outputs": [],
   "source": []
  },
  {
   "cell_type": "code",
   "execution_count": null,
   "id": "ef1e4a6d",
   "metadata": {},
   "outputs": [],
   "source": []
  },
  {
   "cell_type": "code",
   "execution_count": null,
   "id": "217c10e9",
   "metadata": {},
   "outputs": [],
   "source": []
  },
  {
   "cell_type": "code",
   "execution_count": null,
   "id": "126b1c86",
   "metadata": {},
   "outputs": [],
   "source": []
  },
  {
   "cell_type": "code",
   "execution_count": null,
   "id": "e0472c70",
   "metadata": {},
   "outputs": [],
   "source": []
  },
  {
   "cell_type": "code",
   "execution_count": null,
   "id": "cf71d020",
   "metadata": {},
   "outputs": [],
   "source": []
  },
  {
   "cell_type": "code",
   "execution_count": null,
   "id": "90957539",
   "metadata": {},
   "outputs": [],
   "source": []
  },
  {
   "cell_type": "code",
   "execution_count": null,
   "id": "4f3e868b",
   "metadata": {},
   "outputs": [],
   "source": []
  },
  {
   "cell_type": "code",
   "execution_count": null,
   "id": "9f63afa9",
   "metadata": {},
   "outputs": [],
   "source": []
  },
  {
   "cell_type": "code",
   "execution_count": null,
   "id": "ded6cf2f",
   "metadata": {},
   "outputs": [],
   "source": []
  },
  {
   "cell_type": "code",
   "execution_count": null,
   "id": "0878331b",
   "metadata": {},
   "outputs": [],
   "source": []
  },
  {
   "cell_type": "code",
   "execution_count": null,
   "id": "cf45f405",
   "metadata": {},
   "outputs": [],
   "source": [
    "df"
   ]
  },
  {
   "cell_type": "code",
   "execution_count": null,
   "id": "f23ab44e",
   "metadata": {},
   "outputs": [],
   "source": []
  },
  {
   "cell_type": "code",
   "execution_count": null,
   "id": "772af242",
   "metadata": {},
   "outputs": [],
   "source": []
  }
 ],
 "metadata": {
  "kernelspec": {
   "display_name": "Python 3 (ipykernel)",
   "language": "python",
   "name": "python3"
  },
  "language_info": {
   "codemirror_mode": {
    "name": "ipython",
    "version": 3
   },
   "file_extension": ".py",
   "mimetype": "text/x-python",
   "name": "python",
   "nbconvert_exporter": "python",
   "pygments_lexer": "ipython3",
   "version": "3.11.4"
  }
 },
 "nbformat": 4,
 "nbformat_minor": 5
}
